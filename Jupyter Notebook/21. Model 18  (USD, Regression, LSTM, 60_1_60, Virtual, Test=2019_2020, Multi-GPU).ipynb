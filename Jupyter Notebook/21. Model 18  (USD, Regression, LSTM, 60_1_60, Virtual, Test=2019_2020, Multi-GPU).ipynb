{
 "cells": [
  {
   "cell_type": "markdown",
   "metadata": {},
   "source": [
    "### 1. Library"
   ]
  },
  {
   "cell_type": "code",
   "execution_count": 1,
   "metadata": {},
   "outputs": [],
   "source": [
    "# Library\n",
    "import pandas as pd\n",
    "import numpy as np\n",
    "import matplotlib.pyplot as plt\n",
    "import seaborn as sns\n",
    "\n",
    "# Warnings\n",
    "import warnings\n",
    "warnings.filterwarnings(action='ignore') "
   ]
  },
  {
   "cell_type": "markdown",
   "metadata": {},
   "source": [
    "### 2. Data Loading"
   ]
  },
  {
   "cell_type": "code",
   "execution_count": 2,
   "metadata": {},
   "outputs": [
    {
     "data": {
      "text/html": [
       "<div>\n",
       "<style scoped>\n",
       "    .dataframe tbody tr th:only-of-type {\n",
       "        vertical-align: middle;\n",
       "    }\n",
       "\n",
       "    .dataframe tbody tr th {\n",
       "        vertical-align: top;\n",
       "    }\n",
       "\n",
       "    .dataframe thead th {\n",
       "        text-align: right;\n",
       "    }\n",
       "</style>\n",
       "<table border=\"1\" class=\"dataframe\">\n",
       "  <thead>\n",
       "    <tr style=\"text-align: right;\">\n",
       "      <th></th>\n",
       "      <th>USD</th>\n",
       "    </tr>\n",
       "    <tr>\n",
       "      <th>date</th>\n",
       "      <th></th>\n",
       "    </tr>\n",
       "  </thead>\n",
       "  <tbody>\n",
       "    <tr>\n",
       "      <th>2010-01-04</th>\n",
       "      <td>1161.0</td>\n",
       "    </tr>\n",
       "    <tr>\n",
       "      <th>2010-01-05</th>\n",
       "      <td>1147.3</td>\n",
       "    </tr>\n",
       "    <tr>\n",
       "      <th>2010-01-06</th>\n",
       "      <td>1141.4</td>\n",
       "    </tr>\n",
       "    <tr>\n",
       "      <th>2010-01-07</th>\n",
       "      <td>1132.0</td>\n",
       "    </tr>\n",
       "    <tr>\n",
       "      <th>2010-01-08</th>\n",
       "      <td>1134.1</td>\n",
       "    </tr>\n",
       "    <tr>\n",
       "      <th>...</th>\n",
       "      <td>...</td>\n",
       "    </tr>\n",
       "    <tr>\n",
       "      <th>2020-01-10</th>\n",
       "      <td>1160.0</td>\n",
       "    </tr>\n",
       "    <tr>\n",
       "      <th>2020-01-13</th>\n",
       "      <td>1161.1</td>\n",
       "    </tr>\n",
       "    <tr>\n",
       "      <th>2020-01-14</th>\n",
       "      <td>1155.7</td>\n",
       "    </tr>\n",
       "    <tr>\n",
       "      <th>2020-01-15</th>\n",
       "      <td>1153.1</td>\n",
       "    </tr>\n",
       "    <tr>\n",
       "      <th>2020-01-16</th>\n",
       "      <td>1158.8</td>\n",
       "    </tr>\n",
       "  </tbody>\n",
       "</table>\n",
       "<p>2485 rows × 1 columns</p>\n",
       "</div>"
      ],
      "text/plain": [
       "               USD\n",
       "date              \n",
       "2010-01-04  1161.0\n",
       "2010-01-05  1147.3\n",
       "2010-01-06  1141.4\n",
       "2010-01-07  1132.0\n",
       "2010-01-08  1134.1\n",
       "...            ...\n",
       "2020-01-10  1160.0\n",
       "2020-01-13  1161.1\n",
       "2020-01-14  1155.7\n",
       "2020-01-15  1153.1\n",
       "2020-01-16  1158.8\n",
       "\n",
       "[2485 rows x 1 columns]"
      ]
     },
     "execution_count": 2,
     "metadata": {},
     "output_type": "execute_result"
    }
   ],
   "source": [
    "# Read Data\n",
    "data = pd.read_csv('./data/DAILY_DATA.csv')\n",
    "data = data[['date', 'USD']].set_index('date')\n",
    "\n",
    "# Data Head\n",
    "data"
   ]
  },
  {
   "cell_type": "markdown",
   "metadata": {},
   "source": [
    "### 3. Data Shfit 생성"
   ]
  },
  {
   "cell_type": "code",
   "execution_count": 3,
   "metadata": {},
   "outputs": [
    {
     "data": {
      "text/html": [
       "<div>\n",
       "<style scoped>\n",
       "    .dataframe tbody tr th:only-of-type {\n",
       "        vertical-align: middle;\n",
       "    }\n",
       "\n",
       "    .dataframe tbody tr th {\n",
       "        vertical-align: top;\n",
       "    }\n",
       "\n",
       "    .dataframe thead th {\n",
       "        text-align: right;\n",
       "    }\n",
       "</style>\n",
       "<table border=\"1\" class=\"dataframe\">\n",
       "  <thead>\n",
       "    <tr style=\"text-align: right;\">\n",
       "      <th></th>\n",
       "      <th>USD</th>\n",
       "      <th>USD_shift-1</th>\n",
       "      <th>USD_shift-2</th>\n",
       "      <th>USD_shift-3</th>\n",
       "      <th>USD_shift-4</th>\n",
       "      <th>USD_shift-5</th>\n",
       "      <th>USD_shift-6</th>\n",
       "      <th>USD_shift-7</th>\n",
       "      <th>USD_shift-8</th>\n",
       "      <th>USD_shift-9</th>\n",
       "      <th>...</th>\n",
       "      <th>USD_shift-51</th>\n",
       "      <th>USD_shift-52</th>\n",
       "      <th>USD_shift-53</th>\n",
       "      <th>USD_shift-54</th>\n",
       "      <th>USD_shift-55</th>\n",
       "      <th>USD_shift-56</th>\n",
       "      <th>USD_shift-57</th>\n",
       "      <th>USD_shift-58</th>\n",
       "      <th>USD_shift-59</th>\n",
       "      <th>USD_shift-60</th>\n",
       "    </tr>\n",
       "    <tr>\n",
       "      <th>date</th>\n",
       "      <th></th>\n",
       "      <th></th>\n",
       "      <th></th>\n",
       "      <th></th>\n",
       "      <th></th>\n",
       "      <th></th>\n",
       "      <th></th>\n",
       "      <th></th>\n",
       "      <th></th>\n",
       "      <th></th>\n",
       "      <th></th>\n",
       "      <th></th>\n",
       "      <th></th>\n",
       "      <th></th>\n",
       "      <th></th>\n",
       "      <th></th>\n",
       "      <th></th>\n",
       "      <th></th>\n",
       "      <th></th>\n",
       "      <th></th>\n",
       "      <th></th>\n",
       "    </tr>\n",
       "  </thead>\n",
       "  <tbody>\n",
       "    <tr>\n",
       "      <th>2010-03-31</th>\n",
       "      <td>1132.6</td>\n",
       "      <td>1130.7</td>\n",
       "      <td>1140.2</td>\n",
       "      <td>1143.1</td>\n",
       "      <td>1140.7</td>\n",
       "      <td>1135.4</td>\n",
       "      <td>1134.6</td>\n",
       "      <td>1136.3</td>\n",
       "      <td>1133.4</td>\n",
       "      <td>1130.7</td>\n",
       "      <td>...</td>\n",
       "      <td>1122.2</td>\n",
       "      <td>1123.1</td>\n",
       "      <td>1127.0</td>\n",
       "      <td>1123.3</td>\n",
       "      <td>1121.3</td>\n",
       "      <td>1134.1</td>\n",
       "      <td>1132.0</td>\n",
       "      <td>1141.4</td>\n",
       "      <td>1147.3</td>\n",
       "      <td>1161.0</td>\n",
       "    </tr>\n",
       "    <tr>\n",
       "      <th>2010-04-01</th>\n",
       "      <td>1128.9</td>\n",
       "      <td>1132.6</td>\n",
       "      <td>1130.7</td>\n",
       "      <td>1140.2</td>\n",
       "      <td>1143.1</td>\n",
       "      <td>1140.7</td>\n",
       "      <td>1135.4</td>\n",
       "      <td>1134.6</td>\n",
       "      <td>1136.3</td>\n",
       "      <td>1133.4</td>\n",
       "      <td>...</td>\n",
       "      <td>1128.4</td>\n",
       "      <td>1122.2</td>\n",
       "      <td>1123.1</td>\n",
       "      <td>1127.0</td>\n",
       "      <td>1123.3</td>\n",
       "      <td>1121.3</td>\n",
       "      <td>1134.1</td>\n",
       "      <td>1132.0</td>\n",
       "      <td>1141.4</td>\n",
       "      <td>1147.3</td>\n",
       "    </tr>\n",
       "    <tr>\n",
       "      <th>2010-04-02</th>\n",
       "      <td>1124.8</td>\n",
       "      <td>1128.9</td>\n",
       "      <td>1132.6</td>\n",
       "      <td>1130.7</td>\n",
       "      <td>1140.2</td>\n",
       "      <td>1143.1</td>\n",
       "      <td>1140.7</td>\n",
       "      <td>1135.4</td>\n",
       "      <td>1134.6</td>\n",
       "      <td>1136.3</td>\n",
       "      <td>...</td>\n",
       "      <td>1123.4</td>\n",
       "      <td>1128.4</td>\n",
       "      <td>1122.2</td>\n",
       "      <td>1123.1</td>\n",
       "      <td>1127.0</td>\n",
       "      <td>1123.3</td>\n",
       "      <td>1121.3</td>\n",
       "      <td>1134.1</td>\n",
       "      <td>1132.0</td>\n",
       "      <td>1141.4</td>\n",
       "    </tr>\n",
       "    <tr>\n",
       "      <th>2010-04-05</th>\n",
       "      <td>1124.6</td>\n",
       "      <td>1124.8</td>\n",
       "      <td>1128.9</td>\n",
       "      <td>1132.6</td>\n",
       "      <td>1130.7</td>\n",
       "      <td>1140.2</td>\n",
       "      <td>1143.1</td>\n",
       "      <td>1140.7</td>\n",
       "      <td>1135.4</td>\n",
       "      <td>1134.6</td>\n",
       "      <td>...</td>\n",
       "      <td>1128.0</td>\n",
       "      <td>1123.4</td>\n",
       "      <td>1128.4</td>\n",
       "      <td>1122.2</td>\n",
       "      <td>1123.1</td>\n",
       "      <td>1127.0</td>\n",
       "      <td>1123.3</td>\n",
       "      <td>1121.3</td>\n",
       "      <td>1134.1</td>\n",
       "      <td>1132.0</td>\n",
       "    </tr>\n",
       "    <tr>\n",
       "      <th>2010-04-06</th>\n",
       "      <td>1122.9</td>\n",
       "      <td>1124.6</td>\n",
       "      <td>1124.8</td>\n",
       "      <td>1128.9</td>\n",
       "      <td>1132.6</td>\n",
       "      <td>1130.7</td>\n",
       "      <td>1140.2</td>\n",
       "      <td>1143.1</td>\n",
       "      <td>1140.7</td>\n",
       "      <td>1135.4</td>\n",
       "      <td>...</td>\n",
       "      <td>1137.9</td>\n",
       "      <td>1128.0</td>\n",
       "      <td>1123.4</td>\n",
       "      <td>1128.4</td>\n",
       "      <td>1122.2</td>\n",
       "      <td>1123.1</td>\n",
       "      <td>1127.0</td>\n",
       "      <td>1123.3</td>\n",
       "      <td>1121.3</td>\n",
       "      <td>1134.1</td>\n",
       "    </tr>\n",
       "    <tr>\n",
       "      <th>...</th>\n",
       "      <td>...</td>\n",
       "      <td>...</td>\n",
       "      <td>...</td>\n",
       "      <td>...</td>\n",
       "      <td>...</td>\n",
       "      <td>...</td>\n",
       "      <td>...</td>\n",
       "      <td>...</td>\n",
       "      <td>...</td>\n",
       "      <td>...</td>\n",
       "      <td>...</td>\n",
       "      <td>...</td>\n",
       "      <td>...</td>\n",
       "      <td>...</td>\n",
       "      <td>...</td>\n",
       "      <td>...</td>\n",
       "      <td>...</td>\n",
       "      <td>...</td>\n",
       "      <td>...</td>\n",
       "      <td>...</td>\n",
       "      <td>...</td>\n",
       "    </tr>\n",
       "    <tr>\n",
       "      <th>2020-01-10</th>\n",
       "      <td>1160.0</td>\n",
       "      <td>1174.1</td>\n",
       "      <td>1165.3</td>\n",
       "      <td>1169.6</td>\n",
       "      <td>1162.7</td>\n",
       "      <td>1156.9</td>\n",
       "      <td>1157.8</td>\n",
       "      <td>1157.8</td>\n",
       "      <td>1160.9</td>\n",
       "      <td>1161.2</td>\n",
       "      <td>...</td>\n",
       "      <td>1169.6</td>\n",
       "      <td>1174.2</td>\n",
       "      <td>1171.0</td>\n",
       "      <td>1173.7</td>\n",
       "      <td>1171.4</td>\n",
       "      <td>1175.4</td>\n",
       "      <td>1180.5</td>\n",
       "      <td>1186.6</td>\n",
       "      <td>1187.0</td>\n",
       "      <td>1184.1</td>\n",
       "    </tr>\n",
       "    <tr>\n",
       "      <th>2020-01-13</th>\n",
       "      <td>1161.1</td>\n",
       "      <td>1160.0</td>\n",
       "      <td>1174.1</td>\n",
       "      <td>1165.3</td>\n",
       "      <td>1169.6</td>\n",
       "      <td>1162.7</td>\n",
       "      <td>1156.9</td>\n",
       "      <td>1157.8</td>\n",
       "      <td>1157.8</td>\n",
       "      <td>1160.9</td>\n",
       "      <td>...</td>\n",
       "      <td>1166.5</td>\n",
       "      <td>1169.6</td>\n",
       "      <td>1174.2</td>\n",
       "      <td>1171.0</td>\n",
       "      <td>1173.7</td>\n",
       "      <td>1171.4</td>\n",
       "      <td>1175.4</td>\n",
       "      <td>1180.5</td>\n",
       "      <td>1186.6</td>\n",
       "      <td>1187.0</td>\n",
       "    </tr>\n",
       "    <tr>\n",
       "      <th>2020-01-14</th>\n",
       "      <td>1155.7</td>\n",
       "      <td>1161.1</td>\n",
       "      <td>1160.0</td>\n",
       "      <td>1174.1</td>\n",
       "      <td>1165.3</td>\n",
       "      <td>1169.6</td>\n",
       "      <td>1162.7</td>\n",
       "      <td>1156.9</td>\n",
       "      <td>1157.8</td>\n",
       "      <td>1157.8</td>\n",
       "      <td>...</td>\n",
       "      <td>1168.4</td>\n",
       "      <td>1166.5</td>\n",
       "      <td>1169.6</td>\n",
       "      <td>1174.2</td>\n",
       "      <td>1171.0</td>\n",
       "      <td>1173.7</td>\n",
       "      <td>1171.4</td>\n",
       "      <td>1175.4</td>\n",
       "      <td>1180.5</td>\n",
       "      <td>1186.6</td>\n",
       "    </tr>\n",
       "    <tr>\n",
       "      <th>2020-01-15</th>\n",
       "      <td>1153.1</td>\n",
       "      <td>1155.7</td>\n",
       "      <td>1161.1</td>\n",
       "      <td>1160.0</td>\n",
       "      <td>1174.1</td>\n",
       "      <td>1165.3</td>\n",
       "      <td>1169.6</td>\n",
       "      <td>1162.7</td>\n",
       "      <td>1156.9</td>\n",
       "      <td>1157.8</td>\n",
       "      <td>...</td>\n",
       "      <td>1161.7</td>\n",
       "      <td>1168.4</td>\n",
       "      <td>1166.5</td>\n",
       "      <td>1169.6</td>\n",
       "      <td>1174.2</td>\n",
       "      <td>1171.0</td>\n",
       "      <td>1173.7</td>\n",
       "      <td>1171.4</td>\n",
       "      <td>1175.4</td>\n",
       "      <td>1180.5</td>\n",
       "    </tr>\n",
       "    <tr>\n",
       "      <th>2020-01-16</th>\n",
       "      <td>1158.8</td>\n",
       "      <td>1153.1</td>\n",
       "      <td>1155.7</td>\n",
       "      <td>1161.1</td>\n",
       "      <td>1160.0</td>\n",
       "      <td>1174.1</td>\n",
       "      <td>1165.3</td>\n",
       "      <td>1169.6</td>\n",
       "      <td>1162.7</td>\n",
       "      <td>1156.9</td>\n",
       "      <td>...</td>\n",
       "      <td>1167.6</td>\n",
       "      <td>1161.7</td>\n",
       "      <td>1168.4</td>\n",
       "      <td>1166.5</td>\n",
       "      <td>1169.6</td>\n",
       "      <td>1174.2</td>\n",
       "      <td>1171.0</td>\n",
       "      <td>1173.7</td>\n",
       "      <td>1171.4</td>\n",
       "      <td>1175.4</td>\n",
       "    </tr>\n",
       "  </tbody>\n",
       "</table>\n",
       "<p>2425 rows × 61 columns</p>\n",
       "</div>"
      ],
      "text/plain": [
       "               USD  USD_shift-1  USD_shift-2  USD_shift-3  USD_shift-4  \\\n",
       "date                                                                     \n",
       "2010-03-31  1132.6       1130.7       1140.2       1143.1       1140.7   \n",
       "2010-04-01  1128.9       1132.6       1130.7       1140.2       1143.1   \n",
       "2010-04-02  1124.8       1128.9       1132.6       1130.7       1140.2   \n",
       "2010-04-05  1124.6       1124.8       1128.9       1132.6       1130.7   \n",
       "2010-04-06  1122.9       1124.6       1124.8       1128.9       1132.6   \n",
       "...            ...          ...          ...          ...          ...   \n",
       "2020-01-10  1160.0       1174.1       1165.3       1169.6       1162.7   \n",
       "2020-01-13  1161.1       1160.0       1174.1       1165.3       1169.6   \n",
       "2020-01-14  1155.7       1161.1       1160.0       1174.1       1165.3   \n",
       "2020-01-15  1153.1       1155.7       1161.1       1160.0       1174.1   \n",
       "2020-01-16  1158.8       1153.1       1155.7       1161.1       1160.0   \n",
       "\n",
       "            USD_shift-5  USD_shift-6  USD_shift-7  USD_shift-8  USD_shift-9  \\\n",
       "date                                                                          \n",
       "2010-03-31       1135.4       1134.6       1136.3       1133.4       1130.7   \n",
       "2010-04-01       1140.7       1135.4       1134.6       1136.3       1133.4   \n",
       "2010-04-02       1143.1       1140.7       1135.4       1134.6       1136.3   \n",
       "2010-04-05       1140.2       1143.1       1140.7       1135.4       1134.6   \n",
       "2010-04-06       1130.7       1140.2       1143.1       1140.7       1135.4   \n",
       "...                 ...          ...          ...          ...          ...   \n",
       "2020-01-10       1156.9       1157.8       1157.8       1160.9       1161.2   \n",
       "2020-01-13       1162.7       1156.9       1157.8       1157.8       1160.9   \n",
       "2020-01-14       1169.6       1162.7       1156.9       1157.8       1157.8   \n",
       "2020-01-15       1165.3       1169.6       1162.7       1156.9       1157.8   \n",
       "2020-01-16       1174.1       1165.3       1169.6       1162.7       1156.9   \n",
       "\n",
       "            ...  USD_shift-51  USD_shift-52  USD_shift-53  USD_shift-54  \\\n",
       "date        ...                                                           \n",
       "2010-03-31  ...        1122.2        1123.1        1127.0        1123.3   \n",
       "2010-04-01  ...        1128.4        1122.2        1123.1        1127.0   \n",
       "2010-04-02  ...        1123.4        1128.4        1122.2        1123.1   \n",
       "2010-04-05  ...        1128.0        1123.4        1128.4        1122.2   \n",
       "2010-04-06  ...        1137.9        1128.0        1123.4        1128.4   \n",
       "...         ...           ...           ...           ...           ...   \n",
       "2020-01-10  ...        1169.6        1174.2        1171.0        1173.7   \n",
       "2020-01-13  ...        1166.5        1169.6        1174.2        1171.0   \n",
       "2020-01-14  ...        1168.4        1166.5        1169.6        1174.2   \n",
       "2020-01-15  ...        1161.7        1168.4        1166.5        1169.6   \n",
       "2020-01-16  ...        1167.6        1161.7        1168.4        1166.5   \n",
       "\n",
       "            USD_shift-55  USD_shift-56  USD_shift-57  USD_shift-58  \\\n",
       "date                                                                 \n",
       "2010-03-31        1121.3        1134.1        1132.0        1141.4   \n",
       "2010-04-01        1123.3        1121.3        1134.1        1132.0   \n",
       "2010-04-02        1127.0        1123.3        1121.3        1134.1   \n",
       "2010-04-05        1123.1        1127.0        1123.3        1121.3   \n",
       "2010-04-06        1122.2        1123.1        1127.0        1123.3   \n",
       "...                  ...           ...           ...           ...   \n",
       "2020-01-10        1171.4        1175.4        1180.5        1186.6   \n",
       "2020-01-13        1173.7        1171.4        1175.4        1180.5   \n",
       "2020-01-14        1171.0        1173.7        1171.4        1175.4   \n",
       "2020-01-15        1174.2        1171.0        1173.7        1171.4   \n",
       "2020-01-16        1169.6        1174.2        1171.0        1173.7   \n",
       "\n",
       "            USD_shift-59  USD_shift-60  \n",
       "date                                    \n",
       "2010-03-31        1147.3        1161.0  \n",
       "2010-04-01        1141.4        1147.3  \n",
       "2010-04-02        1132.0        1141.4  \n",
       "2010-04-05        1134.1        1132.0  \n",
       "2010-04-06        1121.3        1134.1  \n",
       "...                  ...           ...  \n",
       "2020-01-10        1187.0        1184.1  \n",
       "2020-01-13        1186.6        1187.0  \n",
       "2020-01-14        1180.5        1186.6  \n",
       "2020-01-15        1175.4        1180.5  \n",
       "2020-01-16        1171.4        1175.4  \n",
       "\n",
       "[2425 rows x 61 columns]"
      ]
     },
     "execution_count": 3,
     "metadata": {},
     "output_type": "execute_result"
    }
   ],
   "source": [
    "# Input에 포함시킬 기간\n",
    "PAST_DAYS = 60\n",
    "\n",
    "# Data Shfit 생성    \n",
    "cnt = ['USD']\n",
    "for step1 in cnt : \n",
    "    for step2 in range(1,PAST_DAYS+1):\n",
    "        data['{}_shift-{}'.format(step1,step2)] = data[step1].shift(step2)\n",
    "        \n",
    "# Nan Omit\n",
    "data = data.dropna()\n",
    "\n",
    "# Data Head\n",
    "data"
   ]
  },
  {
   "cell_type": "markdown",
   "metadata": {},
   "source": [
    "### 4. Target, Input 지정"
   ]
  },
  {
   "cell_type": "code",
   "execution_count": 4,
   "metadata": {},
   "outputs": [],
   "source": [
    "# X, y\n",
    "X = data[data.columns[1:]]\n",
    "y = data[data.columns[0]]\n",
    "\n",
    "# X 순서 뒤집기\n",
    "X = X[X.columns[::-1]]"
   ]
  },
  {
   "cell_type": "markdown",
   "metadata": {},
   "source": [
    "### 5. MinMaxScaler"
   ]
  },
  {
   "cell_type": "code",
   "execution_count": 5,
   "metadata": {},
   "outputs": [],
   "source": [
    "from sklearn.preprocessing import MinMaxScaler\n",
    "sc_X = MinMaxScaler(feature_range=(0, 100))\n",
    "X = sc_X.fit_transform(X)\n",
    "sc_y = MinMaxScaler()\n",
    "y = sc_y.fit_transform(y.values.reshape(-1,1))"
   ]
  },
  {
   "cell_type": "markdown",
   "metadata": {},
   "source": [
    "### 6. Train Validation Test Split"
   ]
  },
  {
   "cell_type": "code",
   "execution_count": 6,
   "metadata": {},
   "outputs": [],
   "source": [
    "from sklearn.model_selection import train_test_split\n",
    "X_train, X_test, y_train, y_test = train_test_split(X, y, test_size=0.1, random_state=1234)\n",
    "X_train, X_valid, y_train, y_valid = train_test_split(X_train, y_train, test_size=0.2, random_state=1234)"
   ]
  },
  {
   "cell_type": "markdown",
   "metadata": {},
   "source": [
    "### 7. Dataset Size"
   ]
  },
  {
   "cell_type": "code",
   "execution_count": 7,
   "metadata": {},
   "outputs": [
    {
     "name": "stdout",
     "output_type": "stream",
     "text": [
      "Train Set Size : 1,745 obs\n",
      "Valid Set Size : 437 obs\n",
      "Test Set Size : 243 obs\n"
     ]
    }
   ],
   "source": [
    "print('Train Set Size : {:,} obs' .format(len(X_train)))\n",
    "print('Valid Set Size : {:,} obs' .format(len(X_valid)))\n",
    "print('Test Set Size : {:,} obs' .format(len(X_test)))"
   ]
  },
  {
   "cell_type": "markdown",
   "metadata": {},
   "source": [
    "### 8. Keras Seed"
   ]
  },
  {
   "cell_type": "code",
   "execution_count": 8,
   "metadata": {},
   "outputs": [],
   "source": [
    "from tensorflow import set_random_seed\n",
    "set_random_seed(1234)"
   ]
  },
  {
   "cell_type": "markdown",
   "metadata": {},
   "source": [
    "### 9. DataSet For LSTM"
   ]
  },
  {
   "cell_type": "code",
   "execution_count": 9,
   "metadata": {},
   "outputs": [],
   "source": [
    "X_train_t = X_train.reshape(X_train.shape[0], 60, 1)\n",
    "X_valid_t = X_valid.reshape(X_valid.shape[0], 60, 1)\n",
    "X_test_t = X_test.reshape(X_test.shape[0], 60, 1)"
   ]
  },
  {
   "cell_type": "code",
   "execution_count": 10,
   "metadata": {},
   "outputs": [
    {
     "data": {
      "text/plain": [
       "(1745, 60, 1)"
      ]
     },
     "execution_count": 10,
     "metadata": {},
     "output_type": "execute_result"
    }
   ],
   "source": [
    "X_train_t.shape"
   ]
  },
  {
   "cell_type": "markdown",
   "metadata": {},
   "source": [
    "### 10. LSTM Structure"
   ]
  },
  {
   "cell_type": "code",
   "execution_count": 11,
   "metadata": {},
   "outputs": [
    {
     "name": "stderr",
     "output_type": "stream",
     "text": [
      "Using TensorFlow backend.\n"
     ]
    },
    {
     "ename": "ModuleNotFoundError",
     "evalue": "No module named 'keras.utils.training_utils'",
     "output_type": "error",
     "traceback": [
      "\u001b[0;31m---------------------------------------------------------------------------\u001b[0m",
      "\u001b[0;31mModuleNotFoundError\u001b[0m                       Traceback (most recent call last)",
      "\u001b[0;32m<ipython-input-11-1ef0f2aad556>\u001b[0m in \u001b[0;36m<module>\u001b[0;34m\u001b[0m\n\u001b[1;32m     18\u001b[0m \u001b[0;34m\u001b[0m\u001b[0m\n\u001b[1;32m     19\u001b[0m \u001b[0;31m# Multi GPU Model\u001b[0m\u001b[0;34m\u001b[0m\u001b[0;34m\u001b[0m\u001b[0;34m\u001b[0m\u001b[0m\n\u001b[0;32m---> 20\u001b[0;31m \u001b[0;32mfrom\u001b[0m \u001b[0mkeras\u001b[0m\u001b[0;34m.\u001b[0m\u001b[0mutils\u001b[0m\u001b[0;34m.\u001b[0m\u001b[0mtraining_utils\u001b[0m \u001b[0;32mimport\u001b[0m \u001b[0mmulti_gpu_model\u001b[0m\u001b[0;34m\u001b[0m\u001b[0;34m\u001b[0m\u001b[0m\n\u001b[0m\u001b[1;32m     21\u001b[0m \u001b[0mmodel\u001b[0m \u001b[0;34m=\u001b[0m \u001b[0mmulti_gpu_model\u001b[0m\u001b[0;34m(\u001b[0m\u001b[0mmodel\u001b[0m\u001b[0;34m,\u001b[0m \u001b[0mgpus\u001b[0m\u001b[0;34m=\u001b[0m\u001b[0;36m3\u001b[0m\u001b[0;34m)\u001b[0m\u001b[0;34m\u001b[0m\u001b[0;34m\u001b[0m\u001b[0m\n\u001b[1;32m     22\u001b[0m \u001b[0;34m\u001b[0m\u001b[0m\n",
      "\u001b[0;31mModuleNotFoundError\u001b[0m: No module named 'keras.utils.training_utils'"
     ]
    }
   ],
   "source": [
    "# Library\n",
    "from keras.layers import LSTM \n",
    "from keras.models import Sequential \n",
    "from keras.layers import Dense \n",
    "import keras.backend as K\n",
    "from keras.callbacks import EarlyStopping\n",
    "from keras.layers import Dense, Dropout, Activation\n",
    "\n",
    "# Model Structure\n",
    "    \n",
    "# Sequnetial Model \n",
    "K.clear_session() \n",
    "model = Sequential()\n",
    "\n",
    "# LSTM Layer\n",
    "model.add(LSTM(10, input_shape=(60,1))) # (timestep, feature) \n",
    "model.add(Dense(1))\n",
    "\n",
    "# Multi GPU Model\n",
    "from keras.utils.training_utils import multi_gpu_model\n",
    "model = multi_gpu_model(model, gpus=3)\n",
    "\n",
    "# 결과\n",
    "model.compile(loss='mean_squared_error', optimizer='adam') \n",
    "\n",
    "# Model Structure\n",
    "model.summary()"
   ]
  },
  {
   "cell_type": "markdown",
   "metadata": {},
   "source": [
    "### 11. Model Score"
   ]
  },
  {
   "cell_type": "code",
   "execution_count": null,
   "metadata": {
    "scrolled": true
   },
   "outputs": [],
   "source": [
    "# Early Stopping\n",
    "early_stop = EarlyStopping(monitor='loss', patience=30, verbose=1)\n",
    "\n",
    "# Model Fitting\n",
    "model.fit(X_train_t, y_train, epochs=300, batch_size=30, verbose=1, callbacks=[early_stop])"
   ]
  },
  {
   "cell_type": "markdown",
   "metadata": {},
   "source": [
    "### 11. Model RMSE"
   ]
  },
  {
   "cell_type": "code",
   "execution_count": null,
   "metadata": {},
   "outputs": [],
   "source": [
    "from sklearn.metrics import mean_squared_error\n",
    "\n",
    "# Train\n",
    "pred_train = model.predict(X_train)\n",
    "print(\"Train rmse : {}\" .format(mean_squared_error(y_train, pred_train)**0.5))\n",
    "\n",
    "# Valid\n",
    "pred_valid = model.predict(X_valid)\n",
    "print(\"Valid rmse : {}\" .format(mean_squared_error(y_valid, pred_valid)**0.5))\n",
    "\n",
    "# Test\n",
    "pred_test = model.predict(X_test)\n",
    "print(\"Test rmse : {}\" .format(mean_squared_error(y_test, pred_test)**0.5))"
   ]
  },
  {
   "cell_type": "markdown",
   "metadata": {},
   "source": [
    "### 12. Data Scale 원래 데이터로 변환"
   ]
  },
  {
   "cell_type": "code",
   "execution_count": null,
   "metadata": {},
   "outputs": [],
   "source": [
    "# Data Reverse\n",
    "y_test_origin = sc_y.inverse_transform(y_test)\n",
    "y_pred_origin = sc_y.inverse_transform(pred_test.reshape(-1,1))\n",
    "\n",
    "# Test Data\n",
    "test = np.array([y_test_origin.reshape(-1), y_pred_origin.reshape(-1)]).transpose()\n",
    "test = pd.DataFrame(test, columns = ['y_test', 'y_pred'])"
   ]
  },
  {
   "cell_type": "markdown",
   "metadata": {},
   "source": [
    "### 13. 1일 뒤 예측 시각화"
   ]
  },
  {
   "cell_type": "code",
   "execution_count": null,
   "metadata": {
    "scrolled": false
   },
   "outputs": [],
   "source": [
    "# Pred vs True Visualization\n",
    "plt.figure(figsize = (16,6))\n",
    "sns.lineplot(data = test, linewidth = 2.5)\n",
    "plt.show()"
   ]
  },
  {
   "cell_type": "markdown",
   "metadata": {},
   "source": [
    "### 14. 2019년 예측"
   ]
  },
  {
   "cell_type": "code",
   "execution_count": null,
   "metadata": {},
   "outputs": [],
   "source": [
    "# Date for 2019\n",
    "date_list = pd.date_range('2019-01-02','2020-01-15', freq='B')\n",
    "date_list = list(date_list.strftime('%Y-%m-%d'))"
   ]
  },
  {
   "cell_type": "code",
   "execution_count": null,
   "metadata": {},
   "outputs": [],
   "source": [
    "# Virtual Data Setting\n",
    "data = pd.read_csv('./data/DAILY_DATA.csv')\n",
    "data = data[['date', 'USD']].set_index('date')\n",
    "data = data[2167:2227]"
   ]
  },
  {
   "cell_type": "code",
   "execution_count": null,
   "metadata": {},
   "outputs": [],
   "source": [
    "# Virtual Prediction\n",
    "for step in date_list :\n",
    "    \n",
    "    # Prediction\n",
    "    virtual_X = sc_X.transform(np.array(data[-60:].T))\n",
    "    pred = sc_y.inverse_transform(model.predict(virtual_X).reshape(-1,1)).reshape(-1)[0]\n",
    "    pred_df = pd.DataFrame({'USD' : pred}, index=[step])\n",
    "\n",
    "    # Data Append\n",
    "    data = data.append(pred_df)"
   ]
  },
  {
   "cell_type": "markdown",
   "metadata": {},
   "source": [
    "### 15. 결과 DataFrame으로 변환"
   ]
  },
  {
   "cell_type": "code",
   "execution_count": null,
   "metadata": {},
   "outputs": [],
   "source": [
    "# Virtual 2019 ~ 2020 Data\n",
    "data = data[60:]\n",
    "usd_pred = data\n",
    "usd_pred.columns = ['USD_PRED']"
   ]
  },
  {
   "cell_type": "code",
   "execution_count": null,
   "metadata": {},
   "outputs": [],
   "source": [
    "# Real 2019 ~ 2020 Data\n",
    "data = pd.read_csv('./data/DAILY_DATA.csv')\n",
    "data = data[['date', 'USD']].set_index('date')\n",
    "data = data[2227:-1]\n",
    "usd_true = data\n",
    "usd_true.columns = ['USD_TRUE']"
   ]
  },
  {
   "cell_type": "code",
   "execution_count": null,
   "metadata": {},
   "outputs": [],
   "source": [
    "# Concat\n",
    "virtual_data = pd.concat([usd_true, usd_pred], axis=1)"
   ]
  },
  {
   "cell_type": "code",
   "execution_count": null,
   "metadata": {},
   "outputs": [],
   "source": [
    "# NaN Omit\n",
    "virtual_data = virtual_data.dropna()"
   ]
  },
  {
   "cell_type": "code",
   "execution_count": null,
   "metadata": {},
   "outputs": [],
   "source": [
    "# Result\n",
    "virtual_data"
   ]
  },
  {
   "cell_type": "markdown",
   "metadata": {},
   "source": [
    "### 16. 2019년 1년의 RMSE"
   ]
  },
  {
   "cell_type": "code",
   "execution_count": null,
   "metadata": {},
   "outputs": [],
   "source": [
    "# RMSE\n",
    "from sklearn.metrics import mean_squared_error\n",
    "print(\"rmse : {}\" .format(mean_squared_error(virtual_data['USD_TRUE'], virtual_data['USD_PRED'])**0.5))"
   ]
  },
  {
   "cell_type": "markdown",
   "metadata": {},
   "source": [
    "### 17. Pred vs True Visualization"
   ]
  },
  {
   "cell_type": "code",
   "execution_count": null,
   "metadata": {},
   "outputs": [],
   "source": [
    "plt.figure(figsize = (16,6))\n",
    "ax = sns.lineplot(data = virtual_data, linewidth = 2.5)\n",
    "ax.set(xticks=virtual_data.index[0::30])\n",
    "plt.show()"
   ]
  },
  {
   "cell_type": "markdown",
   "metadata": {},
   "source": [
    "### 18. 만약 3개월만 예측을 한다면...?"
   ]
  },
  {
   "cell_type": "code",
   "execution_count": null,
   "metadata": {},
   "outputs": [],
   "source": [
    "# Result\n",
    "virtual_data = virtual_data[0:60]\n",
    "\n",
    "# RMSE\n",
    "from sklearn.metrics import mean_squared_error\n",
    "rmse = mean_squared_error(virtual_data['USD_TRUE'], virtual_data['USD_PRED'])**0.5\n",
    "print(\"rmse : {}\" .format(rmse))\n",
    "print(\"percent rmse : {:.2f}%\" .format(100 * rmse / (1140-1115)))\n",
    "\n",
    "# Pred vs True Visualization\n",
    "plt.figure(figsize = (16,6))\n",
    "ax = sns.lineplot(data = virtual_data, linewidth = 2.5)\n",
    "ax.set(xticks=virtual_data.index[0::5])\n",
    "plt.show()"
   ]
  }
 ],
 "metadata": {
  "kernelspec": {
   "display_name": "Python 3",
   "language": "python",
   "name": "python3"
  },
  "language_info": {
   "codemirror_mode": {
    "name": "ipython",
    "version": 3
   },
   "file_extension": ".py",
   "mimetype": "text/x-python",
   "name": "python",
   "nbconvert_exporter": "python",
   "pygments_lexer": "ipython3",
   "version": "3.6.8"
  }
 },
 "nbformat": 4,
 "nbformat_minor": 4
}
