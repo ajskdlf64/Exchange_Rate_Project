{
 "cells": [
  {
   "cell_type": "markdown",
   "metadata": {},
   "source": [
    "### 기존에 알려진 환율 예측 모형"
   ]
  },
  {
   "cell_type": "markdown",
   "metadata": {},
   "source": [
    " - 현재까지로는 환율은 임의 보행(Random Walk)의 움직임을 보이는 것이 더 강해, 경제 모형을 만드는 것이 의미가 없다는 주장이 대부분.\n",
    " <br><br>\n",
    " - 그러나, 아예 경제 모형으로 맞출 수 없는 것은 아님.\n",
    " <br><br>\n",
    "   - 1.통화량,이자율 등이 환율을 결정한다는 관년 아래 환율과 경제 기초변수와의 관계를 경제 이론에 따라 구조적인 모형으로 정식화한 다음, 이를 이용하여 예측하려는 것\n",
    "   <br><br>\n",
    "   - 2.환율 변동을 설명함에 있어서 거시경제의 근본 변수들의 움직임으로 설명한다는 것에 대해서 의문을 제기하고 환율 결정의 기본적인 요인들을 외환 시장의미시구조, 즉 시장 내적 요인에서 찾으려는 시도\n",
    "   <br><br>\n",
    "  - 3.환율을 경제이론에 근거한 환율결정모형에 다양한 방법을 도입하여 개선하려는 것이다. 이러한 연구 방법은 균형 환율 수준으로부터 벗어나 있더라도 시간이 지남에 따라 실제 환율은 균형 환율 수준으로 복귀하는 성향을 보일 것이라는 관념에 바탕을 두고 있다."
   ]
  },
  {
   "cell_type": "markdown",
   "metadata": {},
   "source": [
    "<br><br>\n",
    "<br><br>\n",
    "<br><br>"
   ]
  },
  {
   "cell_type": "markdown",
   "metadata": {},
   "source": [
    "### 환율에 영향을 미친다고 알려진 일반적인 경제 변수"
   ]
  },
  {
   "cell_type": "markdown",
   "metadata": {},
   "source": [
    "1. 물가상승률\n",
    "2. 통화량\n",
    "3. 국민소득\n",
    "4. 이자율\n",
    "5. 국제 수지\n",
    "6. 저축\n",
    "7. 투자"
   ]
  },
  {
   "cell_type": "markdown",
   "metadata": {},
   "source": [
    "<br><br>\n",
    "<br><br>\n",
    "<br><br>"
   ]
  },
  {
   "cell_type": "markdown",
   "metadata": {},
   "source": [
    "### Virtual Data를 이용한 장기 예측"
   ]
  },
  {
   "cell_type": "markdown",
   "metadata": {},
   "source": [
    " - 가상데이터를 사용하여 예측하면 기존의 방법으로 장기적인 시점을 예측하는 것보다는 성능이 좋은 것으로 보여진다.\n",
    " <br><br>\n",
    " - 결국 Virtual Data를 사용하기 위해서는 다른 변수들은 사용이 불가...\n",
    " <br><br>\n",
    " - USD 한 개로 만들수 있는 변수만 사용 가능.\n",
    " <br><br>\n",
    " - 미래의 다른 변수들 가격은 만들 수 없기 때문."
   ]
  },
  {
   "cell_type": "markdown",
   "metadata": {},
   "source": [
    "<br><br><br><br><br><br>"
   ]
  },
  {
   "cell_type": "markdown",
   "metadata": {},
   "source": [
    "### Feature를 단순한 값이 아니라, 전일대비 변화율로 변경"
   ]
  },
  {
   "cell_type": "markdown",
   "metadata": {},
   "source": [
    " - USD의 가격을 단순히 1200, 1154, 1123 이런식으로 표현하는것이 아닌 전일대비 -4%, +2.5%, -0.9% 등의 방법으로 표현"
   ]
  },
  {
   "cell_type": "markdown",
   "metadata": {},
   "source": [
    "<br><br><br><br><br><br>"
   ]
  },
  {
   "cell_type": "markdown",
   "metadata": {},
   "source": [
    "### Machine Learning VS Deep Learning"
   ]
  },
  {
   "cell_type": "markdown",
   "metadata": {},
   "source": [
    " - 현재 가장 성능이 뛰어난 머신 러닝 알고리즘 기법인 \"LightGBM\" 기법과 시계열 데이터에서 가장 좋은 성능을 보여주는 \"LSTM\" 모형의 비교가 필요하다."
   ]
  },
  {
   "cell_type": "markdown",
   "metadata": {},
   "source": [
    "<br><br><br><br><br><br>"
   ]
  },
  {
   "cell_type": "markdown",
   "metadata": {},
   "source": [
    "### USD 예측에 필요한 DB 구축"
   ]
  },
  {
   "cell_type": "markdown",
   "metadata": {},
   "source": [
    "#### Target\n",
    "  - USD\n",
    "  \n",
    "#### INPUT\n",
    "  **- 기축통화**\n",
    "    - JYN\n",
    "    - CHF\n",
    "    - GBP\n",
    "    - CAD\n",
    "    - EUR\n",
    "  **- 주요경제지표**\n",
    "    - korea GDP\n",
    "    - US GDP\n",
    "    - International Balance\n",
    "    - Korea Monetary\n",
    "    - US Monetary\n",
    "    - Korea Inf\n",
    "    - US Inf\n",
    "    - Korea Interest Rate\n",
    "    - US Interest Rate\n",
    "  **- 미국 경제 관련 Index**\n",
    "    - S&P 500\n",
    "    - NASDAQ\n",
    "    - DOWJONES\n",
    "  **- 한국 경제 관련 Index**\n",
    "    - KOSPI 200\n",
    "    - KOSDAQ\n",
    "  **- 텍스트마이닝**\n",
    "    - Sentimental Analysis"
   ]
  }
 ],
 "metadata": {
  "kernelspec": {
   "display_name": "Python 3",
   "language": "python",
   "name": "python3"
  },
  "language_info": {
   "codemirror_mode": {
    "name": "ipython",
    "version": 3
   },
   "file_extension": ".py",
   "mimetype": "text/x-python",
   "name": "python",
   "nbconvert_exporter": "python",
   "pygments_lexer": "ipython3",
   "version": "3.6.8"
  }
 },
 "nbformat": 4,
 "nbformat_minor": 4
}
