{
 "cells": [
  {
   "cell_type": "markdown",
   "metadata": {},
   "source": [
    "### 기존에 알려진 환율 예측 모형"
   ]
  },
  {
   "cell_type": "markdown",
   "metadata": {},
   "source": [
    " - 현재까지로는 환율은 임의 보행(Random Walk)의 움직임을 보이는 것이 더 강해, 경제 모형을 만드는 것이 의미가 없다는 주장이 대부분.\n",
    " <br><br>\n",
    " - 그러나, 아예 경제 모형으로 맞출 수 없는 것은 아님.\n",
    "   - 1.통화량,이자율 등이 환율을 결정한다는 관년 아래 환율과 경제 기초변수와의 관계를 경제 이론에 따라 구조적인 모형으로 정식화한 다음, 이를 이용하여 예측하려는 것\n",
    "   - 2.환율 변동을 설명함에 있어서 거시경제의 근본 변수들의 움직임으로 설명한다는 것에 대해서 의문을 제기하고 환율 결정의 기본적인 요인들을 외환 시장의미시구조, 즉 시장 내적 요인에서 찾으려는 시도\n",
    "   - 3.ㅇㄹㅇㄹ"
   ]
  },
  {
   "cell_type": "markdown",
   "metadata": {},
   "source": [
    "### 환율에 영향을 미친다고 알려진 일반적인 경제 변수"
   ]
  },
  {
   "cell_type": "markdown",
   "metadata": {},
   "source": [
    "1. 물가상승률\n",
    "2. 통화량\n",
    "3. 국민소득\n",
    "4. 이자율\n",
    "5. 국제 수지\n",
    "6. 저축\n",
    "7. 투자"
   ]
  },
  {
   "cell_type": "markdown",
   "metadata": {},
   "source": [
    "### Virtual Data를 이용한 장기 예측"
   ]
  },
  {
   "cell_type": "markdown",
   "metadata": {},
   "source": [
    " - 결국 Virtual Data를 사용하기 위해서는 다른 변수들은 사용이 불가...\n",
    " - USD 한 개로 만들수 있는 변수만 사용 가능.\n",
    " - 미래의 다른 변수들 가격은 만들 수 없기 때문."
   ]
  }
 ],
 "metadata": {
  "kernelspec": {
   "display_name": "Python 3",
   "language": "python",
   "name": "python3"
  },
  "language_info": {
   "codemirror_mode": {
    "name": "ipython",
    "version": 3
   },
   "file_extension": ".py",
   "mimetype": "text/x-python",
   "name": "python",
   "nbconvert_exporter": "python",
   "pygments_lexer": "ipython3",
   "version": "3.6.8"
  }
 },
 "nbformat": 4,
 "nbformat_minor": 4
}
