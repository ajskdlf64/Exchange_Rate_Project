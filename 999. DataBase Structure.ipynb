{
 "cells": [
  {
   "cell_type": "markdown",
   "metadata": {},
   "source": [
    "### 1. Library"
   ]
  },
  {
   "cell_type": "code",
   "execution_count": 1,
   "metadata": {},
   "outputs": [],
   "source": [
    "import numpy as np\n",
    "import pandas as pd\n",
    "import matplotlib.pyplot as plt"
   ]
  },
  {
   "cell_type": "code",
   "execution_count": 2,
   "metadata": {},
   "outputs": [],
   "source": [
    "import warnings\n",
    "warnings.filterwarnings(action='ignore') "
   ]
  },
  {
   "cell_type": "markdown",
   "metadata": {},
   "source": [
    "### 2. USD, CHF, GBP, CAD, EUR"
   ]
  },
  {
   "cell_type": "code",
   "execution_count": 3,
   "metadata": {},
   "outputs": [],
   "source": [
    "# Data 불러오기\n",
    "WC = pd.read_csv('./data/DAILY_DATA.csv')"
   ]
  },
  {
   "cell_type": "code",
   "execution_count": 4,
   "metadata": {},
   "outputs": [],
   "source": [
    "# 기축통화량 가져오기\n",
    "WC = WC[['date', 'USD', 'CHF', 'GBP', 'CAD', 'EUR']].set_index('date')"
   ]
  },
  {
   "cell_type": "markdown",
   "metadata": {},
   "source": [
    "### 3. International Balance"
   ]
  },
  {
   "cell_type": "code",
   "execution_count": 5,
   "metadata": {},
   "outputs": [],
   "source": [
    "# Data 불러오기\n",
    "IB = pd.read_csv('./data/International Ballance.csv', header=0)"
   ]
  },
  {
   "cell_type": "code",
   "execution_count": 6,
   "metadata": {},
   "outputs": [],
   "source": [
    "# Transpose 하기\n",
    "IB = IB.T[1:]"
   ]
  },
  {
   "cell_type": "code",
   "execution_count": 7,
   "metadata": {},
   "outputs": [],
   "source": [
    "# Columns 이름 지정해주기\n",
    "IB.columns = ['International_Balance']"
   ]
  },
  {
   "cell_type": "code",
   "execution_count": 8,
   "metadata": {},
   "outputs": [],
   "source": [
    "# Index Columns으로 추가하기\n",
    "IB['date2'] = IB.index"
   ]
  },
  {
   "cell_type": "code",
   "execution_count": 9,
   "metadata": {},
   "outputs": [],
   "source": [
    "# 기축 통화량의 날짜 Index로 추가하기\n",
    "WC['date'] = WC.index\n",
    "WC['date2'] = WC.index"
   ]
  },
  {
   "cell_type": "code",
   "execution_count": 10,
   "metadata": {},
   "outputs": [],
   "source": [
    "# 기축통화량의 date2를 년월로 바꾸기\n",
    "WC.date2 = WC.date2.apply(lambda x : x[0:7])"
   ]
  },
  {
   "cell_type": "code",
   "execution_count": 11,
   "metadata": {},
   "outputs": [],
   "source": [
    "# 기축통화량과 국제수지 합치기\n",
    "data = pd.merge(WC, IB, on='date2')"
   ]
  },
  {
   "cell_type": "code",
   "execution_count": 12,
   "metadata": {},
   "outputs": [],
   "source": [
    "# date2 제거하기\n",
    "del data['date2']"
   ]
  },
  {
   "cell_type": "code",
   "execution_count": 13,
   "metadata": {},
   "outputs": [],
   "source": [
    "# 원래 Index 날짜로 되돌리기\n",
    "data = data.set_index('date')"
   ]
  },
  {
   "cell_type": "markdown",
   "metadata": {},
   "source": [
    "### Final Dataset"
   ]
  },
  {
   "cell_type": "code",
   "execution_count": 14,
   "metadata": {},
   "outputs": [
    {
     "data": {
      "text/html": [
       "<div>\n",
       "<style scoped>\n",
       "    .dataframe tbody tr th:only-of-type {\n",
       "        vertical-align: middle;\n",
       "    }\n",
       "\n",
       "    .dataframe tbody tr th {\n",
       "        vertical-align: top;\n",
       "    }\n",
       "\n",
       "    .dataframe thead th {\n",
       "        text-align: right;\n",
       "    }\n",
       "</style>\n",
       "<table border=\"1\" class=\"dataframe\">\n",
       "  <thead>\n",
       "    <tr style=\"text-align: right;\">\n",
       "      <th></th>\n",
       "      <th>USD</th>\n",
       "      <th>CHF</th>\n",
       "      <th>GBP</th>\n",
       "      <th>CAD</th>\n",
       "      <th>EUR</th>\n",
       "      <th>International_Balance</th>\n",
       "    </tr>\n",
       "    <tr>\n",
       "      <th>date</th>\n",
       "      <th></th>\n",
       "      <th></th>\n",
       "      <th></th>\n",
       "      <th></th>\n",
       "      <th></th>\n",
       "      <th></th>\n",
       "    </tr>\n",
       "  </thead>\n",
       "  <tbody>\n",
       "    <tr>\n",
       "      <th>2010-01-04</th>\n",
       "      <td>1161.0</td>\n",
       "      <td>1128.17</td>\n",
       "      <td>1883.46</td>\n",
       "      <td>1110.15</td>\n",
       "      <td>1673.46</td>\n",
       "      <td>-1799.6</td>\n",
       "    </tr>\n",
       "    <tr>\n",
       "      <th>2010-01-05</th>\n",
       "      <td>1147.3</td>\n",
       "      <td>1122.31</td>\n",
       "      <td>1860.44</td>\n",
       "      <td>1109.76</td>\n",
       "      <td>1665.97</td>\n",
       "      <td>-1799.6</td>\n",
       "    </tr>\n",
       "    <tr>\n",
       "      <th>2010-01-06</th>\n",
       "      <td>1141.4</td>\n",
       "      <td>1106.67</td>\n",
       "      <td>1829.39</td>\n",
       "      <td>1101.19</td>\n",
       "      <td>1643.96</td>\n",
       "      <td>-1799.6</td>\n",
       "    </tr>\n",
       "    <tr>\n",
       "      <th>2010-01-07</th>\n",
       "      <td>1132.0</td>\n",
       "      <td>1107.41</td>\n",
       "      <td>1822.54</td>\n",
       "      <td>1102.69</td>\n",
       "      <td>1639.52</td>\n",
       "      <td>-1799.6</td>\n",
       "    </tr>\n",
       "    <tr>\n",
       "      <th>2010-01-08</th>\n",
       "      <td>1134.1</td>\n",
       "      <td>1095.46</td>\n",
       "      <td>1804.73</td>\n",
       "      <td>1095.51</td>\n",
       "      <td>1621.38</td>\n",
       "      <td>-1799.6</td>\n",
       "    </tr>\n",
       "    <tr>\n",
       "      <th>...</th>\n",
       "      <td>...</td>\n",
       "      <td>...</td>\n",
       "      <td>...</td>\n",
       "      <td>...</td>\n",
       "      <td>...</td>\n",
       "      <td>...</td>\n",
       "    </tr>\n",
       "    <tr>\n",
       "      <th>2019-11-25</th>\n",
       "      <td>1177.8</td>\n",
       "      <td>1180.34</td>\n",
       "      <td>1512.94</td>\n",
       "      <td>885.60</td>\n",
       "      <td>1298.11</td>\n",
       "      <td>5970.2</td>\n",
       "    </tr>\n",
       "    <tr>\n",
       "      <th>2019-11-26</th>\n",
       "      <td>1176.2</td>\n",
       "      <td>1180.15</td>\n",
       "      <td>1517.36</td>\n",
       "      <td>884.19</td>\n",
       "      <td>1295.29</td>\n",
       "      <td>5970.2</td>\n",
       "    </tr>\n",
       "    <tr>\n",
       "      <th>2019-11-27</th>\n",
       "      <td>1174.4</td>\n",
       "      <td>1177.28</td>\n",
       "      <td>1510.63</td>\n",
       "      <td>884.67</td>\n",
       "      <td>1294.48</td>\n",
       "      <td>5970.2</td>\n",
       "    </tr>\n",
       "    <tr>\n",
       "      <th>2019-11-28</th>\n",
       "      <td>1176.0</td>\n",
       "      <td>1177.65</td>\n",
       "      <td>1521.45</td>\n",
       "      <td>885.08</td>\n",
       "      <td>1294.13</td>\n",
       "      <td>5970.2</td>\n",
       "    </tr>\n",
       "    <tr>\n",
       "      <th>2019-11-29</th>\n",
       "      <td>1179.3</td>\n",
       "      <td>1180.95</td>\n",
       "      <td>1522.71</td>\n",
       "      <td>888.16</td>\n",
       "      <td>1298.47</td>\n",
       "      <td>5970.2</td>\n",
       "    </tr>\n",
       "  </tbody>\n",
       "</table>\n",
       "<p>2453 rows × 6 columns</p>\n",
       "</div>"
      ],
      "text/plain": [
       "               USD      CHF      GBP      CAD      EUR International_Balance\n",
       "date                                                                        \n",
       "2010-01-04  1161.0  1128.17  1883.46  1110.15  1673.46               -1799.6\n",
       "2010-01-05  1147.3  1122.31  1860.44  1109.76  1665.97               -1799.6\n",
       "2010-01-06  1141.4  1106.67  1829.39  1101.19  1643.96               -1799.6\n",
       "2010-01-07  1132.0  1107.41  1822.54  1102.69  1639.52               -1799.6\n",
       "2010-01-08  1134.1  1095.46  1804.73  1095.51  1621.38               -1799.6\n",
       "...            ...      ...      ...      ...      ...                   ...\n",
       "2019-11-25  1177.8  1180.34  1512.94   885.60  1298.11                5970.2\n",
       "2019-11-26  1176.2  1180.15  1517.36   884.19  1295.29                5970.2\n",
       "2019-11-27  1174.4  1177.28  1510.63   884.67  1294.48                5970.2\n",
       "2019-11-28  1176.0  1177.65  1521.45   885.08  1294.13                5970.2\n",
       "2019-11-29  1179.3  1180.95  1522.71   888.16  1298.47                5970.2\n",
       "\n",
       "[2453 rows x 6 columns]"
      ]
     },
     "execution_count": 14,
     "metadata": {},
     "output_type": "execute_result"
    }
   ],
   "source": [
    "data"
   ]
  }
 ],
 "metadata": {
  "kernelspec": {
   "display_name": "Python 3",
   "language": "python",
   "name": "python3"
  },
  "language_info": {
   "codemirror_mode": {
    "name": "ipython",
    "version": 3
   },
   "file_extension": ".py",
   "mimetype": "text/x-python",
   "name": "python",
   "nbconvert_exporter": "python",
   "pygments_lexer": "ipython3",
   "version": "3.6.8"
  }
 },
 "nbformat": 4,
 "nbformat_minor": 4
}
